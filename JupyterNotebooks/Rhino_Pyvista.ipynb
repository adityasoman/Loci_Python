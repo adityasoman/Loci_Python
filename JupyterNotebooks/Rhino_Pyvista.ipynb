{
 "cells": [
  {
   "cell_type": "markdown",
   "metadata": {},
   "source": [
    "# Import Statements #"
   ]
  },
  {
   "cell_type": "code",
   "execution_count": 1,
   "metadata": {},
   "outputs": [],
   "source": [
    "import os\n",
    "import topogenesis as tg\n",
    "import pyvista as pv\n",
    "import ipywidgets as widgets\n",
    "import trimesh as tm\n",
    "import scipy as sc\n",
    "import numpy as np\n",
    "import pandas as pd\n",
    "from itertools import cycle\n",
    "import skcriteria as sk\n",
    "from skcriteria.agg import similarity  # here lives TOPSIS\n",
    "from skcriteria.pipeline import mkpipe  # this function is for create pipelines\n",
    "from skcriteria.preprocessing import invert_objectives, scalers\n",
    "pv.set_jupyter_backend('trame')\n",
    "\n",
    "#Display full array without truncation\n",
    "np.set_printoptions(threshold=np.inf)"
   ]
  },
  {
   "cell_type": "markdown",
   "metadata": {},
   "source": [
    "## 01. Loading the base object ##"
   ]
  },
  {
   "cell_type": "markdown",
   "metadata": {},
   "source": [
    "We are loading the base .obj file here to create voxels. The voxel size is considered here is 3x3x3m and the base object is extruded to 2m so that a grid of only 1 voxel in depth is created. In the Hub implementation we can consider adding code to create a 2d voxel grid with the current 3d implementation"
   ]
  },
  {
   "cell_type": "code",
   "execution_count": 2,
   "metadata": {},
   "outputs": [],
   "source": [
    "vs = 3\n",
    "unit = [vs, vs, vs]\n",
    "tol = 1e-09\n",
    "mesh_path = os.path.relpath(r\"C:\\Users\\aditya.soman\\source\\repos\\Loci_Python\\Obj_Data\\floorobject.obj\")\n",
    "mesh = tg.geometry.load_mesh(mesh_path)\n"
   ]
  },
  {
   "cell_type": "code",
   "execution_count": 3,
   "metadata": {},
   "outputs": [],
   "source": [
    "sample_cloud, ray_origins = tg.geometry.mesh_sampling(mesh, unit, multi_core_process=False, return_ray_origin = True, tol=tol)\n",
    "lattice = sample_cloud.voxelate(unit, closed=True)"
   ]
  },
  {
   "cell_type": "code",
   "execution_count": 5,
   "metadata": {},
   "outputs": [
    {
     "data": {
      "application/vnd.jupyter.widget-view+json": {
       "model_id": "515d3d9fe18744deb6695a00b8ac708e",
       "version_major": 2,
       "version_minor": 0
      },
      "text/plain": [
       "Widget(value='<iframe src=\"http://localhost:54220/index.html?ui=P_0x220efc27510_0&reconnect=auto\" class=\"pyvis…"
      ]
     },
     "metadata": {},
     "output_type": "display_data"
    }
   ],
   "source": [
    "# initiating the plotter\n",
    "p = pv.Plotter(notebook=True) # ITK plotter for interactivity within the python notebook (itkwidgets library is required)\n",
    "\n",
    "\n",
    "# fast visualization of the point cloud\n",
    "#sample_cloud.fast_notebook_vis(p)\n",
    "\n",
    "# fast visualization of the lattice\n",
    "lattice.fast_notebook_vis(p)\n",
    "\n",
    "# adding the base mesh: light blue\n",
    "mesh = pv.read(mesh_path)\n",
    "#p.add_mesh(mesh, color='#abd8ff')\n",
    "\n",
    "# adding the ray origins: dark blue\n",
    "#p.add_points(pv.PolyData(ray_origins), color='#004887')\n",
    "\n",
    "# plotting\n",
    "p.show()\n"
   ]
  },
  {
   "cell_type": "markdown",
   "metadata": {},
   "source": [
    "## 02. Create Various Performance matrices (Lattices in topogenesis terminology)\n",
    "1. Quiteness : I have added a few points in Rhino as potential noise sources and the argmin distances from these points are considered as the level of quiteness for that voxel. Note quiteness is used and not dB levels since we are not calculating any sound insulations etc.\n",
    "2. Distance from Facades : Distance from facades N,S,E,W. If the users have a priority to configure zones close to a specific facade \n",
    "3. Daylight : Simplified daylight analysis values for the voxels \n",
    "4. Distance from Lobby : It is the distance of the voxels from the Lobby entrances \n",
    "5. Distance from an Core: It is the distance of the voxels from the Core entrances "
   ]
  },
  {
   "cell_type": "code",
   "execution_count": 6,
   "metadata": {},
   "outputs": [],
   "source": [
    "class PerformanceLattice:\n",
    "    def __init__(self, base_lattice):\n",
    "        self.base_lattice = base_lattice\n",
    "        self.north_distance = np.max(base_lattice.centroids.T[1])\n",
    "        self.south_distance = np.min(base_lattice.centroids.T[1])\n",
    "        self.east_distance = np.max(base_lattice.centroids.T[0])\n",
    "        self.west_distance = np.min(base_lattice.centroids.T[0])\n",
    "\n",
    "    def create_distance_lattice(self, point_lattice:np.array) -> None:\n",
    "        \"\"\"\n",
    "        Create a distance based lattice  on the point sources and initial lattice.\n",
    "        The resulting distance is arg min values from the closest point\n",
    "        \"\"\"\n",
    "        # Create availability lattice\n",
    "        init_lattice = self.base_lattice\n",
    "        availability_lattice_voxels = tg.to_lattice(init_lattice, init_lattice)\n",
    "        voxel_coordinates = availability_lattice_voxels.centroids\n",
    "\n",
    "        # Flatten the initial lattice\n",
    "        flattened_lattice = self.base_lattice.flatten()\n",
    "\n",
    "        # Compute Euclidean distances\n",
    "        eucledian_distance = sc.spatial.distance.cdist(point_lattice, voxel_coordinates)\n",
    "        distance_from_each_source = eucledian_distance.T\n",
    "\n",
    "        # Compute the average quiteness values\n",
    "        average_distance_indexing = np.argmin(distance_from_each_source, axis=1)\n",
    "        average_distance_values = [branch[index] for branch, index in zip(distance_from_each_source, average_distance_indexing)]\n",
    "\n",
    "        # Compute the quiteness lattice\n",
    "        distance_lattice_padded = np.array([num if boolean else 0 for boolean, num in zip(flattened_lattice, cycle(average_distance_values))])\n",
    "        distance_lattice_np = distance_lattice_padded.reshape(self.base_lattice.shape)\n",
    "\n",
    "        # Convert to lattice format\n",
    "        distance_lattice = tg.to_lattice(distance_lattice_np, distance_lattice_np.shape)\n",
    "\n",
    "        return distance_lattice\n",
    "    \n",
    "    def create_facade_lattice(self, direction:str) -> None:\n",
    "        if direction == 'north':\n",
    "            evaluation_value = self.north_distance\n",
    "            distance_lattice = evaluation_value- self.base_lattice.centroids.T[1].reshape(self.base_lattice.shape)\n",
    "        elif direction == 'south':\n",
    "            evaluation_value = self.south_distance\n",
    "            distance_lattice = np.abs(evaluation_value-self.base_lattice.centroids.T[1].reshape(self.base_lattice.shape))\n",
    "        elif direction == 'east':\n",
    "            evaluation_value = self.east_distance\n",
    "            distance_lattice = evaluation_value-self.base_lattice.centroids.T[0].reshape(self.base_lattice.shape)\n",
    "        elif direction == 'west':\n",
    "            evaluation_value = self.west_distance\n",
    "            distance_lattice = np.abs(evaluation_value-self.base_lattice.centroids.T[0].reshape(self.base_lattice.shape))\n",
    "        return distance_lattice\n",
    "    \n",
    "    def distance_from_outermostvoxel (self):\n",
    "        return self.base_lattice"
   ]
  },
  {
   "cell_type": "code",
   "execution_count": 7,
   "metadata": {},
   "outputs": [],
   "source": [
    "def csv_nparray(file_name:str) -> np.array:\n",
    "    \"\"\"\n",
    "    Convert a csv file to numpy array\n",
    "    \"\"\"\n",
    "    Complete_file = pd.read_excel(file_name, sheet_name=0,engine='openpyxl',header = None )\n",
    "    array_excel = Complete_file.to_numpy()\n",
    "    point_array = array_excel.T\n",
    "    return point_array\n",
    "# Numpy array of points indicating source of noise\n",
    "Noise_sources = csv_nparray('Noise_sources.xlsx')\n",
    "Core_centers = csv_nparray('Core_Centers.xlsx')\n",
    "\n",
    "# Create Performance Lattice creator class\n",
    "Performance_Creator = PerformanceLattice(lattice+1)\n",
    "Quiteness_lattice = Performance_Creator.create_distance_lattice(Noise_sources)\n",
    "Coredis_lattice = Performance_Creator.create_distance_lattice(Core_centers)\n",
    "East_facade_lattice = Performance_Creator.create_facade_lattice('east')\n",
    "West_facade_lattice = Performance_Creator.create_facade_lattice('west')\n",
    "North_facade_lattice = Performance_Creator.create_facade_lattice('north')\n",
    "South_facade_lattice = Performance_Creator.create_facade_lattice('south')\n",
    "#Closeness to Facade can be equated to daylight availability\n",
    "Daylight_simplified = Performance_Creator.distance_from_outermostvoxel()\n"
   ]
  },
  {
   "cell_type": "code",
   "execution_count": 8,
   "metadata": {},
   "outputs": [
    {
     "data": {
      "application/vnd.jupyter.widget-view+json": {
       "model_id": "99b314d222b5450689272957bb5bb17b",
       "version_major": 2,
       "version_minor": 0
      },
      "text/plain": [
       "Widget(value='<iframe src=\"http://localhost:54220/index.html?ui=P_0x220efb0e090_1&reconnect=auto\" class=\"pyvis…"
      ]
     },
     "metadata": {},
     "output_type": "display_data"
    }
   ],
   "source": [
    "###### initiating the plotter\n",
    "p = pv.Plotter(notebook=True)\n",
    "# Create the spatial reference\n",
    "grid = pv.ImageData()\n",
    "\n",
    "# Set the grid envelope_lattice: shape because we want to inject our values\n",
    "nx, ny, nz = lattice.shape\n",
    "grid.dimensions = (nx + 1, ny + 1, nz + 1)  # Dimensions = cells + 1 for points\n",
    "# The bottom left corner of the data set\n",
    "grid.origin = lattice.minbound\n",
    "# These are the cell sizes along each axis\n",
    "grid.spacing = lattice.unit\n",
    "\n",
    "# Add the data values to the cell data Select whichever analysis you want to display\n",
    "grid.cell_data[\"Quiteness\"] = Quiteness_lattice.flatten(order=\"F\")  # Flatten the Lattice\n",
    "\n",
    "# fast visualization of the lattice\n",
    "lattice.fast_vis(p)\n",
    "\n",
    "# adding the meshes\n",
    "\n",
    "opacity = [0, 0.75, 0, 0.75, 1.0] \n",
    "clim = [0, 100]\n",
    "p.add_volume(grid, cmap=\"magma\", clim=clim,\n",
    "             opacity=opacity, opacity_unit_distance=5,)\n",
    "# Add your points to plot \n",
    "p.add_points( Noise_sources, color='#FB5607',render_points_as_spheres=True, point_size=20)\n",
    "\n",
    "p.show()"
   ]
  },
  {
   "cell_type": "markdown",
   "metadata": {},
   "source": [
    "## 03. Create Desirability lattices ( Perform MCDA on the  based on the various performance matrices developed in the previous step ) ##"
   ]
  },
  {
   "cell_type": "code",
   "execution_count": 9,
   "metadata": {},
   "outputs": [],
   "source": [
    "# Collect all the Performance matrice\n",
    "array_all_performance_matrices = [Quiteness_lattice.flatten(),Coredis_lattice.flatten(), East_facade_lattice.flatten(), West_facade_lattice.flatten(), North_facade_lattice.flatten(), South_facade_lattice.flatten()]\n",
    "performance_matrix = np.array(array_all_performance_matrices).T"
   ]
  },
  {
   "cell_type": "code",
   "execution_count": 10,
   "metadata": {},
   "outputs": [],
   "source": [
    "class DesirabilityLattice:\n",
    "    def __init__(self, performance_matrix:np.array):\n",
    "        self.performance_matrix = performance_matrix\n",
    "    \n",
    "    def topsis (self, objectives_array, weights_array, criteria_array):\n",
    "        \"\"\"\n",
    "        TOPSIS method to calculate the desirability of each voxel\n",
    "        \"\"\"\n",
    "        decision_matrix = sk.mkdm(\n",
    "        self.performance_matrix,\n",
    "        objectives = objectives_array,\n",
    "        weights = weights_array,\n",
    "        criteria = criteria_array)\n",
    "\n",
    "        pipe = mkpipe(\n",
    "        invert_objectives.NegateMinimize(),\n",
    "        scalers.VectorScaler(target=\"matrix\"),  # this scaler transform the matrix\n",
    "        scalers.SumScaler(target=\"weights\"),  # and this transform the weights\n",
    "        similarity.TOPSIS(),\n",
    "        )\n",
    "        rank = pipe.evaluate(decision_matrix)\n",
    "        mcdm_result= rank.e_.similarity.reshape(lattice.shape)\n",
    "        \n",
    "        return mcdm_result\n"
   ]
  },
  {
   "cell_type": "code",
   "execution_count": 18,
   "metadata": {},
   "outputs": [],
   "source": [
    "criteria_array = [\"quietness\", \"coredis\", \"eastfacade\", \"westfacade\", \"northfacade\", \"southfacade\"]\n",
    "objectives_array = [max,min,max,max,max,max]\n",
    "decisionmaker = DesirabilityLattice(performance_matrix)\n",
    "\n",
    "#Zone1 parameters\n",
    "Z1_weights_array = [0.5, 0.5, 0, 0, 0.6,0]\n",
    "Z1_Desirability_lattice = decisionmaker.topsis(objectives_array, Z1_weights_array, criteria_array)"
   ]
  },
  {
   "cell_type": "code",
   "execution_count": null,
   "metadata": {},
   "outputs": [
    {
     "data": {
      "application/vnd.jupyter.widget-view+json": {
       "model_id": "0e1565534a28464c9b5053b4650144e1",
       "version_major": 2,
       "version_minor": 0
      },
      "text/plain": [
       "Widget(value='<iframe src=\"http://localhost:54220/index.html?ui=P_0x2208f051d50_9&reconnect=auto\" class=\"pyvis…"
      ]
     },
     "metadata": {},
     "output_type": "display_data"
    }
   ],
   "source": [
    "###### initiating the plotter\n",
    "p = pv.Plotter(notebook=True)\n",
    "# Create the spatial reference\n",
    "grid = pv.ImageData()\n",
    "\n",
    "# Set the grid envelope_lattice: shape because we want to inject our values\n",
    "nx, ny, nz = lattice.shape\n",
    "grid.dimensions = (nx + 1, ny + 1, nz + 1)  # Dimensions = cells + 1 for points\n",
    "# The bottom left corner of the data set\n",
    "grid.origin = lattice.minbound\n",
    "# These are the cell sizes along each axis\n",
    "grid.spacing = lattice.unit\n",
    "\n",
    "# Add the data values to the cell data Select whichever analysis you want to display\n",
    "grid.cell_data[\"Zone 1 Desirability Lattice\"] = Z1_Desirability_lattice.flatten(order=\"F\")  # Flatten the Lattice\n",
    "\n",
    "# fast visualization of the lattice\n",
    "lattice.fast_vis(p)\n",
    "\n",
    "# adding the meshes\n",
    "# Matplot lib colormaps https://matplotlib.org/stable/users/explain/colors/colormaps.html\n",
    "\n",
    "opacity = [0, 0.75, 0, 0.75, 1.0] \n",
    "clim = [0, 100]\n",
    "p.add_volume(grid, cmap=\"BrBG\", clim=clim,\n",
    "             opacity=opacity, opacity_unit_distance=5,)\n",
    "# Add your points to plot \n",
    "p.add_points( Noise_sources, color='#FB5607',render_points_as_spheres=True, point_size=20)\n",
    "\n",
    "p.show()"
   ]
  },
  {
   "cell_type": "markdown",
   "metadata": {},
   "source": [
    "## 04. Initiate Agent classes ##"
   ]
  },
  {
   "cell_type": "markdown",
   "metadata": {},
   "source": [
    "## 05. Run Agent Based Simulation ##"
   ]
  }
 ],
 "metadata": {
  "kernelspec": {
   "display_name": "locipywinenv",
   "language": "python",
   "name": "python3"
  },
  "language_info": {
   "codemirror_mode": {
    "name": "ipython",
    "version": 3
   },
   "file_extension": ".py",
   "mimetype": "text/x-python",
   "name": "python",
   "nbconvert_exporter": "python",
   "pygments_lexer": "ipython3",
   "version": "3.11.11"
  }
 },
 "nbformat": 4,
 "nbformat_minor": 4
}
