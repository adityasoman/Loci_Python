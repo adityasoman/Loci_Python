{
 "cells": [
  {
   "cell_type": "markdown",
   "metadata": {},
   "source": [
    "# Import Statements #"
   ]
  },
  {
   "cell_type": "code",
   "execution_count": 1,
   "metadata": {},
   "outputs": [],
   "source": [
    "import os\n",
    "import topogenesis as tg\n",
    "import pyvista as pv\n",
    "import ipywidgets as widgets\n",
    "import trimesh as tm\n",
    "import scipy as sc\n",
    "import numpy as np\n",
    "import pandas as pd\n",
    "from itertools import cycle\n",
    "pv.set_jupyter_backend('trame')"
   ]
  },
  {
   "cell_type": "markdown",
   "metadata": {},
   "source": [
    "## 01. Loading the base object ##"
   ]
  },
  {
   "cell_type": "markdown",
   "metadata": {},
   "source": [
    "We are loading the base .obj file here to create voxels. The voxel size is considered here is 3x3x3m and the base object is extruded to 2m so that a grid of only 1 voxel in depth is created. In the Hub implementation we can consider adding code to create a 2d voxel grid with the current 3d implementation"
   ]
  },
  {
   "cell_type": "code",
   "execution_count": 2,
   "metadata": {},
   "outputs": [],
   "source": [
    "vs = 3\n",
    "unit = [vs, vs, vs]\n",
    "tol = 1e-09\n",
    "mesh_path = os.path.relpath(r\"C:\\Users\\aditya.soman\\source\\repos\\Loci_Python\\Obj_Data\\floorobject.obj\")\n",
    "mesh = tg.geometry.load_mesh(mesh_path)\n"
   ]
  },
  {
   "cell_type": "code",
   "execution_count": 3,
   "metadata": {},
   "outputs": [],
   "source": [
    "sample_cloud, ray_origins = tg.geometry.mesh_sampling(mesh, unit, multi_core_process=False, return_ray_origin = True, tol=tol)"
   ]
  },
  {
   "cell_type": "code",
   "execution_count": 4,
   "metadata": {},
   "outputs": [
    {
     "name": "stdout",
     "output_type": "stream",
     "text": [
      "<class 'topogenesis.datastructures.datastructures.lattice'>\n",
      "[3 3 3]\n",
      "[[  0   0  -3]\n",
      " [114 108   3]]\n"
     ]
    }
   ],
   "source": [
    "lattice = sample_cloud.voxelate(unit, closed=True)\n",
    "print(type(lattice))\n",
    "print(lattice.unit)\n",
    "print(lattice.bounds)"
   ]
  },
  {
   "cell_type": "code",
   "execution_count": 5,
   "metadata": {},
   "outputs": [
    {
     "data": {
      "application/vnd.jupyter.widget-view+json": {
       "model_id": "9076d52629ce4bde9e7e59f02ea35f4a",
       "version_major": 2,
       "version_minor": 0
      },
      "text/plain": [
       "Widget(value='<iframe src=\"http://localhost:63992/index.html?ui=P_0x1a2eff419d0_0&reconnect=auto\" class=\"pyvis…"
      ]
     },
     "metadata": {},
     "output_type": "display_data"
    }
   ],
   "source": [
    "# initiating the plotter\n",
    "p = pv.Plotter(notebook=True) # ITK plotter for interactivity within the python notebook (itkwidgets library is required)\n",
    "\n",
    "\n",
    "# fast visualization of the point cloud\n",
    "#sample_cloud.fast_notebook_vis(p)\n",
    "\n",
    "# fast visualization of the lattice\n",
    "lattice.fast_notebook_vis(p)\n",
    "\n",
    "# adding the base mesh: light blue\n",
    "mesh = pv.read(mesh_path)\n",
    "#p.add_mesh(mesh, color='#abd8ff')\n",
    "\n",
    "# adding the ray origins: dark blue\n",
    "#p.add_points(pv.PolyData(ray_origins), color='#004887')\n",
    "\n",
    "# plotting\n",
    "p.show()\n"
   ]
  },
  {
   "cell_type": "markdown",
   "metadata": {},
   "source": [
    "## Create Various Performance matrices (Lattices in topogenesis terminology)\n",
    "1. Quiteness : I have added a few points in Rhino as potential noise sources and the argmin distances from these points are considered as the level of quiteness for that voxel. Note quiteness is used and not dB levels since we are not calculating any sound insulations etc.\n",
    "2. Distance from Facades : Distance from facades N,S,E,W. If the users have a priority to configure zones close to a specific facade \n",
    "3. Daylight : Simplified daylight analysis values for the voxels \n",
    "4. Distance from Lobby : It is the distance of the voxels from the Lobby entrances \n",
    "5. Distance from an Core: It is the distance of the voxels from the Core entrances "
   ]
  },
  {
   "cell_type": "code",
   "execution_count": 17,
   "metadata": {},
   "outputs": [],
   "source": [
    "# Csv to points \n",
    "Complete_file = pd.read_excel('Point_List.xlsx', sheet_name=0,engine='openpyxl',header = None )\n",
    "design_criterias= list(Complete_file.head(n=0))\n",
    "array_excel = Complete_file.to_numpy()\n",
    "# Numpy array of points\n",
    "Noise_sources = array_excel.T\n",
    "# Create availability lattice\n",
    "init_lattice = lattice +1\n",
    "availability_lattice_voxels = tg.to_lattice(init_lattice, init_lattice)\n",
    "voxel_coordinates= availability_lattice_voxels.centroids\n",
    "flattened_lattice = lattice.flatten()"
   ]
  },
  {
   "cell_type": "code",
   "execution_count": 18,
   "metadata": {},
   "outputs": [
    {
     "data": {
      "text/plain": [
       "(39, 37, 3)"
      ]
     },
     "execution_count": 18,
     "metadata": {},
     "output_type": "execute_result"
    }
   ],
   "source": [
    "Eucledian_distance = sc.spatial.distance.cdist(Noise_sources,voxel_coordinates)\n",
    "noise_from_each_source = Eucledian_distance.T\n",
    "Average_quiteness_indexing= np.argmin(noise_from_each_source, axis=1)\n",
    "Average_quiteness_values = []\n",
    "for branch,index in zip(noise_from_each_source,Average_quiteness_indexing):\n",
    "    Average_quiteness_values.append(branch[index])\n",
    "Quiteeness_lattice_padded= np.array([num if boolean else 0 for boolean, num in zip(flattened_lattice, cycle(Average_quiteness_values))])\n",
    "padded_array = np.array(Quiteeness_lattice_padded)\n",
    "Quiteness_lattice_np = Quiteeness_lattice_padded.reshape(lattice.shape)\n",
    "Quiteness_lattice =tg.to_lattice(Quiteness_lattice_np, Quiteness_lattice_np.shape)\n",
    "\n",
    "Quiteness_lattice.shape"
   ]
  },
  {
   "cell_type": "code",
   "execution_count": 21,
   "metadata": {},
   "outputs": [
    {
     "data": {
      "application/vnd.jupyter.widget-view+json": {
       "model_id": "46c675ee11f3485bb9b023eb51c641ff",
       "version_major": 2,
       "version_minor": 0
      },
      "text/plain": [
       "Widget(value='<iframe src=\"http://localhost:63992/index.html?ui=P_0x1a2947eef90_9&reconnect=auto\" class=\"pyvis…"
      ]
     },
     "metadata": {},
     "output_type": "display_data"
    }
   ],
   "source": [
    "###### initiating the plotter\n",
    "p = pv.Plotter(notebook=True)\n",
    "# Create the spatial reference\n",
    "grid = pv.ImageData()\n",
    "\n",
    "# Set the grid envelope_lattice: shape because we want to inject our values\n",
    "nx, ny, nz = lattice.shape\n",
    "grid.dimensions = (nx + 1, ny + 1, nz + 1)  # Dimensions = cells + 1 for points\n",
    "# The bottom left corner of the data set\n",
    "grid.origin = lattice.minbound\n",
    "# These are the cell sizes along each axis\n",
    "grid.spacing = lattice.unit\n",
    "\n",
    "# Add the data values to the cell data\n",
    "grid.cell_data[\"Quiteness\"] = Quiteness_lattice.flatten(order=\"F\")  # Flatten the Lattice\n",
    "\n",
    "# fast visualization of the lattice\n",
    "lattice.fast_vis(p)\n",
    "\n",
    "# adding the meshes\n",
    "\n",
    "opacity = [0, 0.75, 0, 0.75, 1.0] \n",
    "clim = [0, 100]\n",
    "p.add_volume(grid, cmap=\"magma\", clim=clim,\n",
    "             opacity=opacity, opacity_unit_distance=5,)\n",
    "p.add_points( Noise_sources, color='#e63946')\n",
    "\n",
    "p.show()"
   ]
  }
 ],
 "metadata": {
  "kernelspec": {
   "display_name": "locipywinenv",
   "language": "python",
   "name": "python3"
  },
  "language_info": {
   "codemirror_mode": {
    "name": "ipython",
    "version": 3
   },
   "file_extension": ".py",
   "mimetype": "text/x-python",
   "name": "python",
   "nbconvert_exporter": "python",
   "pygments_lexer": "ipython3",
   "version": "3.11.11"
  }
 },
 "nbformat": 4,
 "nbformat_minor": 4
}
